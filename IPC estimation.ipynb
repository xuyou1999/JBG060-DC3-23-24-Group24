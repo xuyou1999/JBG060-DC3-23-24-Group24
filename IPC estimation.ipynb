{
 "cells": [
  {
   "cell_type": "code",
   "execution_count": 1,
   "id": "325ab1be-7846-45ac-9a51-c599be79dedd",
   "metadata": {},
   "outputs": [],
   "source": [
    "import pandas as pd\n",
    "import numpy as np\n",
    "\n",
    "from sklearn.model_selection import train_test_split, GridSearchCV\n",
    "from sklearn.ensemble import RandomForestClassifier\n",
    "from sklearn.metrics import precision_score, recall_score, f1_score, accuracy_score, confusion_matrix\n",
    "\n",
    "import matplotlib.pyplot as plt"
   ]
  },
  {
   "cell_type": "code",
   "execution_count": 2,
   "id": "6f64caa9-4640-4ce0-8f53-ad165f016c72",
   "metadata": {},
   "outputs": [],
   "source": [
    "df_tabular = pd.read_csv(\"data/food_crises_cleaned.csv\")"
   ]
  },
  {
   "cell_type": "code",
   "execution_count": null,
   "id": "1d302070-dee5-4574-8db0-b4f556a771e7",
   "metadata": {},
   "outputs": [],
   "source": []
  },
  {
   "cell_type": "code",
   "execution_count": null,
   "id": "50fee807-689e-43a3-8f51-4f1c643f3b89",
   "metadata": {},
   "outputs": [],
   "source": []
  },
  {
   "cell_type": "code",
   "execution_count": 3,
   "id": "2c5eaf1c-b09c-4133-9e03-26a55101e108",
   "metadata": {},
   "outputs": [],
   "source": [
    "df_model = df_tabular[~df_tabular.ipc.isna()][['ipc', 'ndvi_mean', 'ndvi_anom', 'rain_mean',\n",
    "       'rain_anom', 'et_mean', 'et_anom', 'count_violence', 'sum_fatalities',\n",
    "       'food_price_idx', 'area', 'cropland_pct', 'pop', 'ruggedness_mean', 'pasture_pct']]\n",
    "\n",
    "# not using 'ha' because of missing values\n",
    "\n",
    "ipc5 = df_model.loc[df_model[df_model['ipc']==5].index]\n",
    "df_model.drop(df_model[df_model['ipc']==5].index, axis='index', inplace=True)\n",
    "df_model.reset_index(inplace=True)\n",
    "df_model.drop(columns=['index'], inplace=True)\n"
   ]
  },
  {
   "cell_type": "code",
   "execution_count": 4,
   "id": "0b49d738-81a5-455b-a5c8-09ce808179fc",
   "metadata": {},
   "outputs": [
    {
     "data": {
      "text/html": [
       "<div>\n",
       "<style scoped>\n",
       "    .dataframe tbody tr th:only-of-type {\n",
       "        vertical-align: middle;\n",
       "    }\n",
       "\n",
       "    .dataframe tbody tr th {\n",
       "        vertical-align: top;\n",
       "    }\n",
       "\n",
       "    .dataframe thead th {\n",
       "        text-align: right;\n",
       "    }\n",
       "</style>\n",
       "<table border=\"1\" class=\"dataframe\">\n",
       "  <thead>\n",
       "    <tr style=\"text-align: right;\">\n",
       "      <th></th>\n",
       "      <th>ipc</th>\n",
       "      <th>ndvi_mean</th>\n",
       "      <th>ndvi_anom</th>\n",
       "      <th>rain_mean</th>\n",
       "      <th>rain_anom</th>\n",
       "      <th>et_mean</th>\n",
       "      <th>et_anom</th>\n",
       "      <th>count_violence</th>\n",
       "      <th>sum_fatalities</th>\n",
       "      <th>food_price_idx</th>\n",
       "      <th>area</th>\n",
       "      <th>cropland_pct</th>\n",
       "      <th>pop</th>\n",
       "      <th>ruggedness_mean</th>\n",
       "      <th>pasture_pct</th>\n",
       "    </tr>\n",
       "  </thead>\n",
       "  <tbody>\n",
       "    <tr>\n",
       "      <th>7547</th>\n",
       "      <td>5.0</td>\n",
       "      <td>0.423214</td>\n",
       "      <td>100.5192</td>\n",
       "      <td>0.082133</td>\n",
       "      <td>-0.003616</td>\n",
       "      <td>0.522037</td>\n",
       "      <td>0.201752</td>\n",
       "      <td>3</td>\n",
       "      <td>32</td>\n",
       "      <td>20.40088</td>\n",
       "      <td>1637.891</td>\n",
       "      <td>41.07024</td>\n",
       "      <td>97790.0</td>\n",
       "      <td>36786.08</td>\n",
       "      <td>86.84211</td>\n",
       "    </tr>\n",
       "  </tbody>\n",
       "</table>\n",
       "</div>"
      ],
      "text/plain": [
       "      ipc  ndvi_mean  ndvi_anom  rain_mean  rain_anom   et_mean   et_anom  \\\n",
       "7547  5.0   0.423214   100.5192   0.082133  -0.003616  0.522037  0.201752   \n",
       "\n",
       "      count_violence  sum_fatalities  food_price_idx      area  cropland_pct  \\\n",
       "7547               3              32        20.40088  1637.891      41.07024   \n",
       "\n",
       "          pop  ruggedness_mean  pasture_pct  \n",
       "7547  97790.0         36786.08     86.84211  "
      ]
     },
     "execution_count": 4,
     "metadata": {},
     "output_type": "execute_result"
    }
   ],
   "source": [
    "ipc5"
   ]
  },
  {
   "cell_type": "code",
   "execution_count": 5,
   "id": "bc54b96c-06c8-4e28-9db1-9b9a78923bbf",
   "metadata": {},
   "outputs": [],
   "source": [
    "X = df_model[['ndvi_mean', 'ndvi_anom', 'rain_mean',\n",
    "       'rain_anom', 'et_mean', 'et_anom', 'count_violence', 'sum_fatalities',\n",
    "       'food_price_idx', 'area', 'cropland_pct', 'pop', 'ruggedness_mean', 'pasture_pct']]\n",
    "y = df_model['ipc']"
   ]
  },
  {
   "cell_type": "code",
   "execution_count": 6,
   "id": "83cc7f4d-864e-4f9d-bdb0-eb609fdeb293",
   "metadata": {},
   "outputs": [],
   "source": [
    "X_train, X_test, y_train, y_test = train_test_split(X, y, test_size=0.2, random_state=42, stratify=y)"
   ]
  },
  {
   "cell_type": "code",
   "execution_count": 7,
   "id": "16452edb-84ca-43b8-a70a-2f40cc476930",
   "metadata": {},
   "outputs": [],
   "source": [
    "# X_train, X_val, y_train, y_val = train_test_split(X_to_split, y_to_split, test_size=0.25, random_state=42, stratify=y_to_split)"
   ]
  },
  {
   "cell_type": "code",
   "execution_count": 8,
   "id": "89108431-9775-43bf-8376-f907fe9d2e97",
   "metadata": {},
   "outputs": [
    {
     "data": {
      "text/plain": [
       "Series([], Name: ipc, dtype: float64)"
      ]
     },
     "execution_count": 8,
     "metadata": {},
     "output_type": "execute_result"
    }
   ],
   "source": [
    "y[y==5]"
   ]
  },
  {
   "cell_type": "code",
   "execution_count": 9,
   "id": "67360516-c2c8-4d57-ba29-c47e759d34c3",
   "metadata": {},
   "outputs": [],
   "source": [
    "X_train = pd.concat([X_train, ipc5[['ndvi_mean', 'ndvi_anom', 'rain_mean',\n",
    "       'rain_anom', 'et_mean', 'et_anom', 'count_violence', 'sum_fatalities',\n",
    "       'food_price_idx', 'area', 'cropland_pct', 'pop', 'ruggedness_mean', 'pasture_pct']]])\n",
    "y_train = pd.concat([y_train, ipc5.ipc])"
   ]
  },
  {
   "cell_type": "code",
   "execution_count": 10,
   "id": "3fdd3e0d-982a-475a-872f-2ffb23bcaa4b",
   "metadata": {},
   "outputs": [],
   "source": [
    "# X_train.shape, X_val.shape, X_test.shape"
   ]
  },
  {
   "cell_type": "code",
   "execution_count": 11,
   "id": "c7ee0625-4789-432d-819f-ea714fa3a681",
   "metadata": {},
   "outputs": [],
   "source": [
    "# y_train.shape, y_val.shape, y_test.shape"
   ]
  },
  {
   "cell_type": "code",
   "execution_count": 12,
   "id": "035991c2-1f49-415d-b745-dad4f5b3f919",
   "metadata": {},
   "outputs": [],
   "source": [
    "def classification_evaluation(y_test, y_pred, avg=\"weighted\"):\n",
    "\n",
    "    precision = precision_score(y_test, y_pred, average=avg, zero_division=0)\n",
    "    recall = recall_score(y_test, y_pred, average=avg, zero_division=0)\n",
    "    F1_score = f1_score(y_test, y_pred, average=avg, zero_division=0)\n",
    "    accuracy = accuracy_score(y_test, y_pred)\n",
    "    \n",
    "    print(f'Accuracy: {round(accuracy,3)}')\n",
    "    print(f'Precision: {round(precision,3)}')\n",
    "    print(f'Recall: {round(recall,3)}')\n",
    "    print(f'f1-score: {round(F1_score,3)}')\n",
    "    print(f'Confusion matrix: {confusion_matrix(y_test, y_pred)}')\n",
    "    \n",
    "\n",
    "def grid_train_pred_eval(model, grid, X_train, X_test, y_train, y_test, cv=5, best_est=True):\n",
    "    '''optionally returns the best estimator such that it can be saved in a variable\n",
    "    '''\n",
    "    \n",
    "    grid_search = GridSearchCV(model, grid, cv=cv).fit(X_train, y_train)\n",
    "    y_pred_train = grid_search.predict(X_train)\n",
    "    y_pred_test = grid_search.predict(X_test)\n",
    "    \n",
    "    print('Metrics on training data:')\n",
    "    classification_evaluation(y_train, y_pred_train)\n",
    "    print('\\n')\n",
    "    \n",
    "    print('Metrics on testing data:')\n",
    "    classification_evaluation(y_test, y_pred_test)\n",
    "    \n",
    "    print(f'Best hyperparameters found: {grid_search.best_params_}')\n",
    "    \n",
    "    if best_est == True:\n",
    "        return grid_search.best_estimator_"
   ]
  },
  {
   "cell_type": "markdown",
   "id": "9233cb27-dd43-455b-b48a-754850c3ec4e",
   "metadata": {},
   "source": [
    "# Imputation\n"
   ]
  },
  {
   "cell_type": "code",
   "execution_count": 13,
   "id": "0d0ed12f-550d-471e-a1cd-06d9408327ed",
   "metadata": {
    "scrolled": true
   },
   "outputs": [
    {
     "name": "stderr",
     "output_type": "stream",
     "text": [
      "C:\\Users\\Goshko\\anaconda3\\envs\\dc3\\lib\\site-packages\\sklearn\\model_selection\\_split.py:725: UserWarning: The least populated class in y has only 1 members, which is less than n_splits=5.\n",
      "  warnings.warn(\n"
     ]
    },
    {
     "name": "stdout",
     "output_type": "stream",
     "text": [
      "Metrics on training data:\n",
      "Accuracy: 1.0\n",
      "Precision: 1.0\n",
      "Recall: 1.0\n",
      "f1-score: 1.0\n",
      "Confusion matrix: [[696   0   0   0   0]\n",
      " [  0 886   0   0   0]\n",
      " [  0   0 703   0   0]\n",
      " [  0   0   0 147   0]\n",
      " [  0   0   0   0   1]]\n",
      "\n",
      "\n",
      "Metrics on testing data:\n",
      "Accuracy: 0.677\n",
      "Precision: 0.672\n",
      "Recall: 0.677\n",
      "f1-score: 0.663\n",
      "Confusion matrix: [[126  48   0   0]\n",
      " [ 27 168  27   0]\n",
      " [  1  56 116   3]\n",
      " [  0   1  34   2]]\n",
      "Best hyperparameters found: {'n_estimators': 250}\n"
     ]
    },
    {
     "data": {
      "text/html": [
       "<style>#sk-container-id-1 {color: black;}#sk-container-id-1 pre{padding: 0;}#sk-container-id-1 div.sk-toggleable {background-color: white;}#sk-container-id-1 label.sk-toggleable__label {cursor: pointer;display: block;width: 100%;margin-bottom: 0;padding: 0.3em;box-sizing: border-box;text-align: center;}#sk-container-id-1 label.sk-toggleable__label-arrow:before {content: \"▸\";float: left;margin-right: 0.25em;color: #696969;}#sk-container-id-1 label.sk-toggleable__label-arrow:hover:before {color: black;}#sk-container-id-1 div.sk-estimator:hover label.sk-toggleable__label-arrow:before {color: black;}#sk-container-id-1 div.sk-toggleable__content {max-height: 0;max-width: 0;overflow: hidden;text-align: left;background-color: #f0f8ff;}#sk-container-id-1 div.sk-toggleable__content pre {margin: 0.2em;color: black;border-radius: 0.25em;background-color: #f0f8ff;}#sk-container-id-1 input.sk-toggleable__control:checked~div.sk-toggleable__content {max-height: 200px;max-width: 100%;overflow: auto;}#sk-container-id-1 input.sk-toggleable__control:checked~label.sk-toggleable__label-arrow:before {content: \"▾\";}#sk-container-id-1 div.sk-estimator input.sk-toggleable__control:checked~label.sk-toggleable__label {background-color: #d4ebff;}#sk-container-id-1 div.sk-label input.sk-toggleable__control:checked~label.sk-toggleable__label {background-color: #d4ebff;}#sk-container-id-1 input.sk-hidden--visually {border: 0;clip: rect(1px 1px 1px 1px);clip: rect(1px, 1px, 1px, 1px);height: 1px;margin: -1px;overflow: hidden;padding: 0;position: absolute;width: 1px;}#sk-container-id-1 div.sk-estimator {font-family: monospace;background-color: #f0f8ff;border: 1px dotted black;border-radius: 0.25em;box-sizing: border-box;margin-bottom: 0.5em;}#sk-container-id-1 div.sk-estimator:hover {background-color: #d4ebff;}#sk-container-id-1 div.sk-parallel-item::after {content: \"\";width: 100%;border-bottom: 1px solid gray;flex-grow: 1;}#sk-container-id-1 div.sk-label:hover label.sk-toggleable__label {background-color: #d4ebff;}#sk-container-id-1 div.sk-serial::before {content: \"\";position: absolute;border-left: 1px solid gray;box-sizing: border-box;top: 0;bottom: 0;left: 50%;z-index: 0;}#sk-container-id-1 div.sk-serial {display: flex;flex-direction: column;align-items: center;background-color: white;padding-right: 0.2em;padding-left: 0.2em;position: relative;}#sk-container-id-1 div.sk-item {position: relative;z-index: 1;}#sk-container-id-1 div.sk-parallel {display: flex;align-items: stretch;justify-content: center;background-color: white;position: relative;}#sk-container-id-1 div.sk-item::before, #sk-container-id-1 div.sk-parallel-item::before {content: \"\";position: absolute;border-left: 1px solid gray;box-sizing: border-box;top: 0;bottom: 0;left: 50%;z-index: -1;}#sk-container-id-1 div.sk-parallel-item {display: flex;flex-direction: column;z-index: 1;position: relative;background-color: white;}#sk-container-id-1 div.sk-parallel-item:first-child::after {align-self: flex-end;width: 50%;}#sk-container-id-1 div.sk-parallel-item:last-child::after {align-self: flex-start;width: 50%;}#sk-container-id-1 div.sk-parallel-item:only-child::after {width: 0;}#sk-container-id-1 div.sk-dashed-wrapped {border: 1px dashed gray;margin: 0 0.4em 0.5em 0.4em;box-sizing: border-box;padding-bottom: 0.4em;background-color: white;}#sk-container-id-1 div.sk-label label {font-family: monospace;font-weight: bold;display: inline-block;line-height: 1.2em;}#sk-container-id-1 div.sk-label-container {text-align: center;}#sk-container-id-1 div.sk-container {/* jupyter's `normalize.less` sets `[hidden] { display: none; }` but bootstrap.min.css set `[hidden] { display: none !important; }` so we also need the `!important` here to be able to override the default hidden behavior on the sphinx rendered scikit-learn.org. See: https://github.com/scikit-learn/scikit-learn/issues/21755 */display: inline-block !important;position: relative;}#sk-container-id-1 div.sk-text-repr-fallback {display: none;}</style><div id=\"sk-container-id-1\" class=\"sk-top-container\"><div class=\"sk-text-repr-fallback\"><pre>RandomForestClassifier(n_estimators=250, random_state=42)</pre><b>In a Jupyter environment, please rerun this cell to show the HTML representation or trust the notebook. <br />On GitHub, the HTML representation is unable to render, please try loading this page with nbviewer.org.</b></div><div class=\"sk-container\" hidden><div class=\"sk-item\"><div class=\"sk-estimator sk-toggleable\"><input class=\"sk-toggleable__control sk-hidden--visually\" id=\"sk-estimator-id-1\" type=\"checkbox\" checked><label for=\"sk-estimator-id-1\" class=\"sk-toggleable__label sk-toggleable__label-arrow\">RandomForestClassifier</label><div class=\"sk-toggleable__content\"><pre>RandomForestClassifier(n_estimators=250, random_state=42)</pre></div></div></div></div></div>"
      ],
      "text/plain": [
       "RandomForestClassifier(n_estimators=250, random_state=42)"
      ]
     },
     "execution_count": 13,
     "metadata": {},
     "output_type": "execute_result"
    }
   ],
   "source": [
    "grid={'n_estimators':[50,250,350]}\n",
    "\n",
    "forest_clf = grid_train_pred_eval(\n",
    "    RandomForestClassifier(bootstrap = True, criterion = 'gini', random_state=42), \n",
    "    grid, X_train, X_test, y_train, y_test)\n",
    "\n",
    "forest_clf"
   ]
  },
  {
   "cell_type": "markdown",
   "id": "68d66c76-f43e-4074-be62-3b186ac37de9",
   "metadata": {},
   "source": [
    "# Interpolation\n"
   ]
  },
  {
   "cell_type": "code",
   "execution_count": 148,
   "id": "8fd3fc1b-f01c-4f04-bb65-cad4209861fd",
   "metadata": {
    "scrolled": true
   },
   "outputs": [],
   "source": [
    "df_model_2 = df_tabular[~df_tabular.ipc.isna()][['district', 'ipc', 'year_month', 'ndvi_mean', 'ndvi_anom', 'rain_mean',\n",
    "       'rain_anom', 'et_mean', 'et_anom', 'count_violence', 'sum_fatalities',\n",
    "       'food_price_idx', 'area', 'cropland_pct', 'pop', 'ruggedness_mean', 'pasture_pct']]\n",
    "\n",
    "# not using 'ha' because of missing values\n",
    "\n",
    "df_model_2.year_month = df_tabular.year_month.apply(lambda x : x[:4] + '-' + x[5:] + '-01')\n",
    "df_model_2.year_month = pd.to_datetime(df_model_2.year_month)"
   ]
  },
  {
   "cell_type": "code",
   "execution_count": 149,
   "id": "378c3378-4048-4131-ae90-799430e0db96",
   "metadata": {},
   "outputs": [],
   "source": [
    "# add 1st and 2nd prev and next ipc \n",
    "# add nr months away from 1st and 2nd prev and next ipc\n",
    "# split in X and y\n",
    "# add ipc5_2 to train"
   ]
  },
  {
   "cell_type": "code",
   "execution_count": 150,
   "id": "e1d9750c-8a09-4f2c-aab9-bb06c75cfc4a",
   "metadata": {
    "scrolled": true
   },
   "outputs": [],
   "source": [
    "df_model_2=df_model_2.copy()\n",
    "\n",
    "df_model_2[\"prev_ipc\"] = df_model_2.groupby('district')['ipc'].shift(1)\n",
    "df_model_2[\"2prev_ipc\"] = df_model_2.groupby('district')['ipc'].shift(2)\n",
    "df_model_2[\"next_ipc\"] = df_model_2.groupby('district')['ipc'].shift(-1)\n",
    "\n",
    "\n",
    "def calculate_time_difference(dataframe, column):\n",
    "    return dataframe.apply(lambda row: abs(row['year_month'] - row[column]), axis='columns')\n",
    "    \n",
    "# df_model_2[\"prev_date\"] = df_model_2.groupby('district')['year_month'].shift(1)\n",
    "# df_model_2[\"next_date\"] = df_model_2.groupby('district')['year_month'].shift(-1)\n",
    "\n",
    "df_model_2 = df_model_2[df_model_2.year_month != '2009-07-01']\n",
    "df_model_2 = df_model_2[df_model_2.year_month != '2009-10-01']\n",
    "df_model_2 = df_model_2[df_model_2.year_month != '2020-02-01']\n",
    "\n",
    "# df_model_2[\"next_date\"] = calculate_time_difference(df_model_2, 'next_date')\n",
    "# df_model_2[\"prev_date\"] = calculate_time_difference(df_model_2, 'prev_date')"
   ]
  },
  {
   "cell_type": "code",
   "execution_count": 151,
   "id": "56d31dc8-5f68-4018-ac42-7cb0662ec04a",
   "metadata": {},
   "outputs": [],
   "source": [
    "ipc5_2 = df_model_2.loc[df_model_2[df_model_2['ipc']==5].index]\n",
    "df_model_2.drop(df_model_2[df_model_2['ipc']==5].index, axis='index', inplace=True)\n",
    "df_model_2.reset_index(inplace=True)\n",
    "df_model_2.drop(columns=['index'], inplace=True)"
   ]
  },
  {
   "cell_type": "code",
   "execution_count": 152,
   "id": "7d30a755-fdfe-4105-9c62-6f41d59b8a27",
   "metadata": {
    "scrolled": true
   },
   "outputs": [
    {
     "data": {
      "text/html": [
       "<div>\n",
       "<style scoped>\n",
       "    .dataframe tbody tr th:only-of-type {\n",
       "        vertical-align: middle;\n",
       "    }\n",
       "\n",
       "    .dataframe tbody tr th {\n",
       "        vertical-align: top;\n",
       "    }\n",
       "\n",
       "    .dataframe thead th {\n",
       "        text-align: right;\n",
       "    }\n",
       "</style>\n",
       "<table border=\"1\" class=\"dataframe\">\n",
       "  <thead>\n",
       "    <tr style=\"text-align: right;\">\n",
       "      <th></th>\n",
       "      <th>district</th>\n",
       "      <th>ipc</th>\n",
       "      <th>year_month</th>\n",
       "      <th>ndvi_mean</th>\n",
       "      <th>ndvi_anom</th>\n",
       "      <th>rain_mean</th>\n",
       "      <th>rain_anom</th>\n",
       "      <th>et_mean</th>\n",
       "      <th>et_anom</th>\n",
       "      <th>count_violence</th>\n",
       "      <th>sum_fatalities</th>\n",
       "      <th>food_price_idx</th>\n",
       "      <th>area</th>\n",
       "      <th>cropland_pct</th>\n",
       "      <th>pop</th>\n",
       "      <th>ruggedness_mean</th>\n",
       "      <th>pasture_pct</th>\n",
       "      <th>prev_ipc</th>\n",
       "      <th>2prev_ipc</th>\n",
       "      <th>next_ipc</th>\n",
       "    </tr>\n",
       "  </thead>\n",
       "  <tbody>\n",
       "    <tr>\n",
       "      <th>7547</th>\n",
       "      <td>Leer</td>\n",
       "      <td>5.0</td>\n",
       "      <td>2017-02-01</td>\n",
       "      <td>0.423214</td>\n",
       "      <td>100.5192</td>\n",
       "      <td>0.082133</td>\n",
       "      <td>-0.003616</td>\n",
       "      <td>0.522037</td>\n",
       "      <td>0.201752</td>\n",
       "      <td>3</td>\n",
       "      <td>32</td>\n",
       "      <td>20.40088</td>\n",
       "      <td>1637.891</td>\n",
       "      <td>41.07024</td>\n",
       "      <td>97790.0</td>\n",
       "      <td>36786.08</td>\n",
       "      <td>86.84211</td>\n",
       "      <td>4.0</td>\n",
       "      <td>4.0</td>\n",
       "      <td>3.0</td>\n",
       "    </tr>\n",
       "  </tbody>\n",
       "</table>\n",
       "</div>"
      ],
      "text/plain": [
       "     district  ipc year_month  ndvi_mean  ndvi_anom  rain_mean  rain_anom  \\\n",
       "7547     Leer  5.0 2017-02-01   0.423214   100.5192   0.082133  -0.003616   \n",
       "\n",
       "       et_mean   et_anom  count_violence  sum_fatalities  food_price_idx  \\\n",
       "7547  0.522037  0.201752               3              32        20.40088   \n",
       "\n",
       "          area  cropland_pct      pop  ruggedness_mean  pasture_pct  prev_ipc  \\\n",
       "7547  1637.891      41.07024  97790.0         36786.08     86.84211       4.0   \n",
       "\n",
       "      2prev_ipc  next_ipc  \n",
       "7547        4.0       3.0  "
      ]
     },
     "execution_count": 152,
     "metadata": {},
     "output_type": "execute_result"
    }
   ],
   "source": [
    "ipc5_2"
   ]
  },
  {
   "cell_type": "code",
   "execution_count": 168,
   "id": "85fae7fc-90d0-4b8c-bc04-d02f805c2e69",
   "metadata": {},
   "outputs": [],
   "source": [
    "X_2 = df_model_2[['ndvi_mean', 'ndvi_anom', 'rain_mean',\n",
    "       'rain_anom', 'et_mean', 'et_anom', 'count_violence', 'sum_fatalities',\n",
    "       'food_price_idx', 'area', 'cropland_pct', 'pop', 'ruggedness_mean', 'pasture_pct',\n",
    "                 'prev_ipc', '2prev_ipc', 'next_ipc']]\n",
    "y_2 = df_model_2['ipc']"
   ]
  },
  {
   "cell_type": "code",
   "execution_count": 169,
   "id": "5cbf3851-e3bd-4491-a4ad-2c515e82c457",
   "metadata": {},
   "outputs": [],
   "source": [
    "X_train_2, X_test_2, y_train_2, y_test_2 = train_test_split(X_2, y_2, test_size=0.2, random_state=42, stratify=y_2)"
   ]
  },
  {
   "cell_type": "code",
   "execution_count": 170,
   "id": "5a924560-30ef-4dd3-b49a-ccaa49c3a1af",
   "metadata": {},
   "outputs": [
    {
     "data": {
      "text/plain": [
       "Series([], Name: ipc, dtype: float64)"
      ]
     },
     "execution_count": 170,
     "metadata": {},
     "output_type": "execute_result"
    }
   ],
   "source": [
    "y_2[y_2==5]"
   ]
  },
  {
   "cell_type": "code",
   "execution_count": 171,
   "id": "3548950f-2974-4fe8-83e6-bc609a5f39a9",
   "metadata": {},
   "outputs": [],
   "source": [
    "X_train_2 = pd.concat([X_train_2, ipc5_2[['ndvi_mean', 'ndvi_anom', 'rain_mean',\n",
    "       'rain_anom', 'et_mean', 'et_anom', 'count_violence', 'sum_fatalities',\n",
    "       'food_price_idx', 'area', 'cropland_pct', 'pop', 'ruggedness_mean', 'pasture_pct',\n",
    "                 'prev_ipc', '2prev_ipc', 'next_ipc']]])\n",
    "y_train_2 = pd.concat([y_train_2, ipc5_2.ipc])"
   ]
  },
  {
   "cell_type": "code",
   "execution_count": 173,
   "id": "aef6c18d-3356-4f45-a5b2-5fcd9dc45632",
   "metadata": {},
   "outputs": [
    {
     "name": "stderr",
     "output_type": "stream",
     "text": [
      "C:\\Users\\Goshko\\anaconda3\\envs\\dc3\\lib\\site-packages\\sklearn\\model_selection\\_split.py:725: UserWarning: The least populated class in y has only 1 members, which is less than n_splits=5.\n",
      "  warnings.warn(\n"
     ]
    },
    {
     "name": "stdout",
     "output_type": "stream",
     "text": [
      "Metrics on training data:\n",
      "Accuracy: 1.0\n",
      "Precision: 1.0\n",
      "Recall: 1.0\n",
      "f1-score: 1.0\n",
      "Confusion matrix: [[632   0   0   0   0]\n",
      " [  0 836   0   0   0]\n",
      " [  0   0 645   0   0]\n",
      " [  0   0   0 132   0]\n",
      " [  0   0   0   0   1]]\n",
      "\n",
      "\n",
      "Metrics on testing data:\n",
      "Accuracy: 0.762\n",
      "Precision: 0.744\n",
      "Recall: 0.762\n",
      "f1-score: 0.743\n",
      "Confusion matrix: [[128  29   1   0]\n",
      " [ 19 171  20   0]\n",
      " [  0  31 128   2]\n",
      " [  0   0  32   1]]\n",
      "Best hyperparameters found: {'n_estimators': 250}\n"
     ]
    },
    {
     "data": {
      "text/html": [
       "<style>#sk-container-id-3 {color: black;}#sk-container-id-3 pre{padding: 0;}#sk-container-id-3 div.sk-toggleable {background-color: white;}#sk-container-id-3 label.sk-toggleable__label {cursor: pointer;display: block;width: 100%;margin-bottom: 0;padding: 0.3em;box-sizing: border-box;text-align: center;}#sk-container-id-3 label.sk-toggleable__label-arrow:before {content: \"▸\";float: left;margin-right: 0.25em;color: #696969;}#sk-container-id-3 label.sk-toggleable__label-arrow:hover:before {color: black;}#sk-container-id-3 div.sk-estimator:hover label.sk-toggleable__label-arrow:before {color: black;}#sk-container-id-3 div.sk-toggleable__content {max-height: 0;max-width: 0;overflow: hidden;text-align: left;background-color: #f0f8ff;}#sk-container-id-3 div.sk-toggleable__content pre {margin: 0.2em;color: black;border-radius: 0.25em;background-color: #f0f8ff;}#sk-container-id-3 input.sk-toggleable__control:checked~div.sk-toggleable__content {max-height: 200px;max-width: 100%;overflow: auto;}#sk-container-id-3 input.sk-toggleable__control:checked~label.sk-toggleable__label-arrow:before {content: \"▾\";}#sk-container-id-3 div.sk-estimator input.sk-toggleable__control:checked~label.sk-toggleable__label {background-color: #d4ebff;}#sk-container-id-3 div.sk-label input.sk-toggleable__control:checked~label.sk-toggleable__label {background-color: #d4ebff;}#sk-container-id-3 input.sk-hidden--visually {border: 0;clip: rect(1px 1px 1px 1px);clip: rect(1px, 1px, 1px, 1px);height: 1px;margin: -1px;overflow: hidden;padding: 0;position: absolute;width: 1px;}#sk-container-id-3 div.sk-estimator {font-family: monospace;background-color: #f0f8ff;border: 1px dotted black;border-radius: 0.25em;box-sizing: border-box;margin-bottom: 0.5em;}#sk-container-id-3 div.sk-estimator:hover {background-color: #d4ebff;}#sk-container-id-3 div.sk-parallel-item::after {content: \"\";width: 100%;border-bottom: 1px solid gray;flex-grow: 1;}#sk-container-id-3 div.sk-label:hover label.sk-toggleable__label {background-color: #d4ebff;}#sk-container-id-3 div.sk-serial::before {content: \"\";position: absolute;border-left: 1px solid gray;box-sizing: border-box;top: 0;bottom: 0;left: 50%;z-index: 0;}#sk-container-id-3 div.sk-serial {display: flex;flex-direction: column;align-items: center;background-color: white;padding-right: 0.2em;padding-left: 0.2em;position: relative;}#sk-container-id-3 div.sk-item {position: relative;z-index: 1;}#sk-container-id-3 div.sk-parallel {display: flex;align-items: stretch;justify-content: center;background-color: white;position: relative;}#sk-container-id-3 div.sk-item::before, #sk-container-id-3 div.sk-parallel-item::before {content: \"\";position: absolute;border-left: 1px solid gray;box-sizing: border-box;top: 0;bottom: 0;left: 50%;z-index: -1;}#sk-container-id-3 div.sk-parallel-item {display: flex;flex-direction: column;z-index: 1;position: relative;background-color: white;}#sk-container-id-3 div.sk-parallel-item:first-child::after {align-self: flex-end;width: 50%;}#sk-container-id-3 div.sk-parallel-item:last-child::after {align-self: flex-start;width: 50%;}#sk-container-id-3 div.sk-parallel-item:only-child::after {width: 0;}#sk-container-id-3 div.sk-dashed-wrapped {border: 1px dashed gray;margin: 0 0.4em 0.5em 0.4em;box-sizing: border-box;padding-bottom: 0.4em;background-color: white;}#sk-container-id-3 div.sk-label label {font-family: monospace;font-weight: bold;display: inline-block;line-height: 1.2em;}#sk-container-id-3 div.sk-label-container {text-align: center;}#sk-container-id-3 div.sk-container {/* jupyter's `normalize.less` sets `[hidden] { display: none; }` but bootstrap.min.css set `[hidden] { display: none !important; }` so we also need the `!important` here to be able to override the default hidden behavior on the sphinx rendered scikit-learn.org. See: https://github.com/scikit-learn/scikit-learn/issues/21755 */display: inline-block !important;position: relative;}#sk-container-id-3 div.sk-text-repr-fallback {display: none;}</style><div id=\"sk-container-id-3\" class=\"sk-top-container\"><div class=\"sk-text-repr-fallback\"><pre>RandomForestClassifier(n_estimators=250, random_state=42)</pre><b>In a Jupyter environment, please rerun this cell to show the HTML representation or trust the notebook. <br />On GitHub, the HTML representation is unable to render, please try loading this page with nbviewer.org.</b></div><div class=\"sk-container\" hidden><div class=\"sk-item\"><div class=\"sk-estimator sk-toggleable\"><input class=\"sk-toggleable__control sk-hidden--visually\" id=\"sk-estimator-id-3\" type=\"checkbox\" checked><label for=\"sk-estimator-id-3\" class=\"sk-toggleable__label sk-toggleable__label-arrow\">RandomForestClassifier</label><div class=\"sk-toggleable__content\"><pre>RandomForestClassifier(n_estimators=250, random_state=42)</pre></div></div></div></div></div>"
      ],
      "text/plain": [
       "RandomForestClassifier(n_estimators=250, random_state=42)"
      ]
     },
     "execution_count": 173,
     "metadata": {},
     "output_type": "execute_result"
    }
   ],
   "source": [
    "grid={'n_estimators':[250]}\n",
    "\n",
    "forest_clf_2 = grid_train_pred_eval(\n",
    "    RandomForestClassifier(bootstrap = True, criterion = 'gini', random_state=42), \n",
    "    grid, X_train_2, X_test_2, y_train_2, y_test_2)\n",
    "\n",
    "forest_clf_2"
   ]
  },
  {
   "cell_type": "code",
   "execution_count": 174,
   "id": "b538e7d1-44e4-45c4-81b0-95984c33562f",
   "metadata": {},
   "outputs": [
    {
     "data": {
      "text/html": [
       "<div>\n",
       "<style scoped>\n",
       "    .dataframe tbody tr th:only-of-type {\n",
       "        vertical-align: middle;\n",
       "    }\n",
       "\n",
       "    .dataframe tbody tr th {\n",
       "        vertical-align: top;\n",
       "    }\n",
       "\n",
       "    .dataframe thead th {\n",
       "        text-align: right;\n",
       "    }\n",
       "</style>\n",
       "<table border=\"1\" class=\"dataframe\">\n",
       "  <thead>\n",
       "    <tr style=\"text-align: right;\">\n",
       "      <th></th>\n",
       "      <th>ndvi_mean</th>\n",
       "      <th>ndvi_anom</th>\n",
       "      <th>rain_mean</th>\n",
       "      <th>rain_anom</th>\n",
       "      <th>et_mean</th>\n",
       "      <th>et_anom</th>\n",
       "      <th>count_violence</th>\n",
       "      <th>sum_fatalities</th>\n",
       "      <th>food_price_idx</th>\n",
       "      <th>area</th>\n",
       "      <th>cropland_pct</th>\n",
       "      <th>pop</th>\n",
       "      <th>ruggedness_mean</th>\n",
       "      <th>pasture_pct</th>\n",
       "      <th>prev_ipc</th>\n",
       "      <th>2prev_ipc</th>\n",
       "      <th>next_ipc</th>\n",
       "    </tr>\n",
       "  </thead>\n",
       "  <tbody>\n",
       "    <tr>\n",
       "      <th>2355</th>\n",
       "      <td>0.269428</td>\n",
       "      <td>96.39127</td>\n",
       "      <td>0.055701</td>\n",
       "      <td>-0.000907</td>\n",
       "      <td>0.289682</td>\n",
       "      <td>-0.145043</td>\n",
       "      <td>0</td>\n",
       "      <td>0</td>\n",
       "      <td>2.160001</td>\n",
       "      <td>11866.220</td>\n",
       "      <td>30.162330</td>\n",
       "      <td>63801.0</td>\n",
       "      <td>20155.890</td>\n",
       "      <td>87.21831</td>\n",
       "      <td>2.0</td>\n",
       "      <td>2.0</td>\n",
       "      <td>3.0</td>\n",
       "    </tr>\n",
       "    <tr>\n",
       "      <th>1940</th>\n",
       "      <td>0.292380</td>\n",
       "      <td>92.27671</td>\n",
       "      <td>0.052588</td>\n",
       "      <td>-0.005515</td>\n",
       "      <td>0.115323</td>\n",
       "      <td>0.033895</td>\n",
       "      <td>0</td>\n",
       "      <td>0</td>\n",
       "      <td>53.189380</td>\n",
       "      <td>4428.075</td>\n",
       "      <td>10.101880</td>\n",
       "      <td>162946.0</td>\n",
       "      <td>5726.711</td>\n",
       "      <td>82.94444</td>\n",
       "      <td>3.0</td>\n",
       "      <td>4.0</td>\n",
       "      <td>4.0</td>\n",
       "    </tr>\n",
       "    <tr>\n",
       "      <th>689</th>\n",
       "      <td>0.303265</td>\n",
       "      <td>81.12310</td>\n",
       "      <td>8.001044</td>\n",
       "      <td>-3.758007</td>\n",
       "      <td>10.158230</td>\n",
       "      <td>1.573021</td>\n",
       "      <td>0</td>\n",
       "      <td>0</td>\n",
       "      <td>1.308612</td>\n",
       "      <td>5758.278</td>\n",
       "      <td>56.159650</td>\n",
       "      <td>192657.0</td>\n",
       "      <td>13915.230</td>\n",
       "      <td>73.75362</td>\n",
       "      <td>2.0</td>\n",
       "      <td>2.0</td>\n",
       "      <td>2.0</td>\n",
       "    </tr>\n",
       "    <tr>\n",
       "      <th>1331</th>\n",
       "      <td>0.670094</td>\n",
       "      <td>110.24350</td>\n",
       "      <td>13.339970</td>\n",
       "      <td>-1.595913</td>\n",
       "      <td>26.790160</td>\n",
       "      <td>9.190472</td>\n",
       "      <td>1</td>\n",
       "      <td>4</td>\n",
       "      <td>73.675010</td>\n",
       "      <td>4883.326</td>\n",
       "      <td>4.964257</td>\n",
       "      <td>389333.0</td>\n",
       "      <td>17832.140</td>\n",
       "      <td>86.46552</td>\n",
       "      <td>4.0</td>\n",
       "      <td>4.0</td>\n",
       "      <td>3.0</td>\n",
       "    </tr>\n",
       "    <tr>\n",
       "      <th>1629</th>\n",
       "      <td>0.266948</td>\n",
       "      <td>84.42636</td>\n",
       "      <td>4.623626</td>\n",
       "      <td>-2.259570</td>\n",
       "      <td>1.830199</td>\n",
       "      <td>-0.812974</td>\n",
       "      <td>0</td>\n",
       "      <td>0</td>\n",
       "      <td>1.887479</td>\n",
       "      <td>4844.418</td>\n",
       "      <td>4.428182</td>\n",
       "      <td>108004.0</td>\n",
       "      <td>3591.286</td>\n",
       "      <td>89.58182</td>\n",
       "      <td>1.0</td>\n",
       "      <td>1.0</td>\n",
       "      <td>2.0</td>\n",
       "    </tr>\n",
       "    <tr>\n",
       "      <th>...</th>\n",
       "      <td>...</td>\n",
       "      <td>...</td>\n",
       "      <td>...</td>\n",
       "      <td>...</td>\n",
       "      <td>...</td>\n",
       "      <td>...</td>\n",
       "      <td>...</td>\n",
       "      <td>...</td>\n",
       "      <td>...</td>\n",
       "      <td>...</td>\n",
       "      <td>...</td>\n",
       "      <td>...</td>\n",
       "      <td>...</td>\n",
       "      <td>...</td>\n",
       "      <td>...</td>\n",
       "      <td>...</td>\n",
       "      <td>...</td>\n",
       "    </tr>\n",
       "    <tr>\n",
       "      <th>1549</th>\n",
       "      <td>0.238967</td>\n",
       "      <td>80.72475</td>\n",
       "      <td>5.522245</td>\n",
       "      <td>-2.894917</td>\n",
       "      <td>0.282223</td>\n",
       "      <td>-1.803714</td>\n",
       "      <td>0</td>\n",
       "      <td>0</td>\n",
       "      <td>1.063881</td>\n",
       "      <td>4440.182</td>\n",
       "      <td>18.189620</td>\n",
       "      <td>132915.0</td>\n",
       "      <td>11936.300</td>\n",
       "      <td>89.38462</td>\n",
       "      <td>1.0</td>\n",
       "      <td>3.0</td>\n",
       "      <td>2.0</td>\n",
       "    </tr>\n",
       "    <tr>\n",
       "      <th>1562</th>\n",
       "      <td>0.647819</td>\n",
       "      <td>95.63124</td>\n",
       "      <td>26.185120</td>\n",
       "      <td>-4.974002</td>\n",
       "      <td>20.864980</td>\n",
       "      <td>-2.795710</td>\n",
       "      <td>0</td>\n",
       "      <td>0</td>\n",
       "      <td>2.096466</td>\n",
       "      <td>4440.182</td>\n",
       "      <td>18.189620</td>\n",
       "      <td>132961.0</td>\n",
       "      <td>11936.300</td>\n",
       "      <td>89.38462</td>\n",
       "      <td>2.0</td>\n",
       "      <td>2.0</td>\n",
       "      <td>2.0</td>\n",
       "    </tr>\n",
       "    <tr>\n",
       "      <th>943</th>\n",
       "      <td>0.693635</td>\n",
       "      <td>106.22770</td>\n",
       "      <td>28.544720</td>\n",
       "      <td>-0.195854</td>\n",
       "      <td>24.294190</td>\n",
       "      <td>2.267097</td>\n",
       "      <td>0</td>\n",
       "      <td>0</td>\n",
       "      <td>1.999169</td>\n",
       "      <td>9237.169</td>\n",
       "      <td>15.375390</td>\n",
       "      <td>12906.0</td>\n",
       "      <td>9649.806</td>\n",
       "      <td>65.10092</td>\n",
       "      <td>1.0</td>\n",
       "      <td>1.0</td>\n",
       "      <td>1.0</td>\n",
       "    </tr>\n",
       "    <tr>\n",
       "      <th>1802</th>\n",
       "      <td>0.679276</td>\n",
       "      <td>107.88390</td>\n",
       "      <td>14.921400</td>\n",
       "      <td>2.323688</td>\n",
       "      <td>23.074250</td>\n",
       "      <td>5.546668</td>\n",
       "      <td>1</td>\n",
       "      <td>0</td>\n",
       "      <td>1.123413</td>\n",
       "      <td>13496.320</td>\n",
       "      <td>27.965010</td>\n",
       "      <td>167586.0</td>\n",
       "      <td>25183.090</td>\n",
       "      <td>90.86875</td>\n",
       "      <td>1.0</td>\n",
       "      <td>1.0</td>\n",
       "      <td>1.0</td>\n",
       "    </tr>\n",
       "    <tr>\n",
       "      <th>7547</th>\n",
       "      <td>0.423214</td>\n",
       "      <td>100.51920</td>\n",
       "      <td>0.082133</td>\n",
       "      <td>-0.003616</td>\n",
       "      <td>0.522037</td>\n",
       "      <td>0.201752</td>\n",
       "      <td>3</td>\n",
       "      <td>32</td>\n",
       "      <td>20.400880</td>\n",
       "      <td>1637.891</td>\n",
       "      <td>41.070240</td>\n",
       "      <td>97790.0</td>\n",
       "      <td>36786.080</td>\n",
       "      <td>86.84211</td>\n",
       "      <td>4.0</td>\n",
       "      <td>4.0</td>\n",
       "      <td>3.0</td>\n",
       "    </tr>\n",
       "  </tbody>\n",
       "</table>\n",
       "<p>2246 rows × 17 columns</p>\n",
       "</div>"
      ],
      "text/plain": [
       "      ndvi_mean  ndvi_anom  rain_mean  rain_anom    et_mean   et_anom  \\\n",
       "2355   0.269428   96.39127   0.055701  -0.000907   0.289682 -0.145043   \n",
       "1940   0.292380   92.27671   0.052588  -0.005515   0.115323  0.033895   \n",
       "689    0.303265   81.12310   8.001044  -3.758007  10.158230  1.573021   \n",
       "1331   0.670094  110.24350  13.339970  -1.595913  26.790160  9.190472   \n",
       "1629   0.266948   84.42636   4.623626  -2.259570   1.830199 -0.812974   \n",
       "...         ...        ...        ...        ...        ...       ...   \n",
       "1549   0.238967   80.72475   5.522245  -2.894917   0.282223 -1.803714   \n",
       "1562   0.647819   95.63124  26.185120  -4.974002  20.864980 -2.795710   \n",
       "943    0.693635  106.22770  28.544720  -0.195854  24.294190  2.267097   \n",
       "1802   0.679276  107.88390  14.921400   2.323688  23.074250  5.546668   \n",
       "7547   0.423214  100.51920   0.082133  -0.003616   0.522037  0.201752   \n",
       "\n",
       "      count_violence  sum_fatalities  food_price_idx       area  cropland_pct  \\\n",
       "2355               0               0        2.160001  11866.220     30.162330   \n",
       "1940               0               0       53.189380   4428.075     10.101880   \n",
       "689                0               0        1.308612   5758.278     56.159650   \n",
       "1331               1               4       73.675010   4883.326      4.964257   \n",
       "1629               0               0        1.887479   4844.418      4.428182   \n",
       "...              ...             ...             ...        ...           ...   \n",
       "1549               0               0        1.063881   4440.182     18.189620   \n",
       "1562               0               0        2.096466   4440.182     18.189620   \n",
       "943                0               0        1.999169   9237.169     15.375390   \n",
       "1802               1               0        1.123413  13496.320     27.965010   \n",
       "7547               3              32       20.400880   1637.891     41.070240   \n",
       "\n",
       "           pop  ruggedness_mean  pasture_pct  prev_ipc  2prev_ipc  next_ipc  \n",
       "2355   63801.0        20155.890     87.21831       2.0        2.0       3.0  \n",
       "1940  162946.0         5726.711     82.94444       3.0        4.0       4.0  \n",
       "689   192657.0        13915.230     73.75362       2.0        2.0       2.0  \n",
       "1331  389333.0        17832.140     86.46552       4.0        4.0       3.0  \n",
       "1629  108004.0         3591.286     89.58182       1.0        1.0       2.0  \n",
       "...        ...              ...          ...       ...        ...       ...  \n",
       "1549  132915.0        11936.300     89.38462       1.0        3.0       2.0  \n",
       "1562  132961.0        11936.300     89.38462       2.0        2.0       2.0  \n",
       "943    12906.0         9649.806     65.10092       1.0        1.0       1.0  \n",
       "1802  167586.0        25183.090     90.86875       1.0        1.0       1.0  \n",
       "7547   97790.0        36786.080     86.84211       4.0        4.0       3.0  \n",
       "\n",
       "[2246 rows x 17 columns]"
      ]
     },
     "execution_count": 174,
     "metadata": {},
     "output_type": "execute_result"
    }
   ],
   "source": [
    "X_train_2"
   ]
  },
  {
   "cell_type": "code",
   "execution_count": null,
   "id": "7f0f7da3-3055-461f-acd9-e1602c37ea03",
   "metadata": {},
   "outputs": [],
   "source": []
  }
 ],
 "metadata": {
  "kernelspec": {
   "display_name": "Python 3 (ipykernel)",
   "language": "python",
   "name": "python3"
  },
  "language_info": {
   "codemirror_mode": {
    "name": "ipython",
    "version": 3
   },
   "file_extension": ".py",
   "mimetype": "text/x-python",
   "name": "python",
   "nbconvert_exporter": "python",
   "pygments_lexer": "ipython3",
   "version": "3.9.16"
  }
 },
 "nbformat": 4,
 "nbformat_minor": 5
}
